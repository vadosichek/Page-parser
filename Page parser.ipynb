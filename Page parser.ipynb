{
 "cells": [
  {
   "cell_type": "markdown",
   "metadata": {},
   "source": [
    "# НОЖ"
   ]
  },
  {
   "cell_type": "markdown",
   "metadata": {},
   "source": [
    "что за нож?  \n",
    "«Нож» — развлекательный онлайн-журнал для умных людей  \n",
    "http://knife.media/"
   ]
  },
  {
   "cell_type": "markdown",
   "metadata": {},
   "source": [
    "ну и"
   ]
  },
  {
   "cell_type": "markdown",
   "metadata": {},
   "source": [
    "# Парсер, короче\n",
    "by gurtle"
   ]
  },
  {
   "cell_type": "markdown",
   "metadata": {},
   "source": [
    "![alt text](cat1.gif)"
   ]
  },
  {
   "cell_type": "markdown",
   "metadata": {},
   "source": [
    "### Импорты всего нужного\n",
    "что нужно и зачем нужно?<br />\n",
    "urllib.request - ну, все и так понятно  \n",
    "супчик - доставть теги и их содержимое  \n",
    "unicodedata - чтоб лишний раз не мучиться с кодировками"
   ]
  },
  {
   "cell_type": "code",
   "execution_count": 1,
   "metadata": {},
   "outputs": [],
   "source": [
    "from urllib.request import Request, urlopen\n",
    "from bs4 import BeautifulSoup\n",
    "import unicodedata\n",
    "from tqdm import tqdm_notebook"
   ]
  },
  {
   "cell_type": "markdown",
   "metadata": {},
   "source": [
    "### Прописываем адрес, с которого начнем парсинг"
   ]
  },
  {
   "cell_type": "code",
   "execution_count": 2,
   "metadata": {},
   "outputs": [],
   "source": [
    "base_url = 'https://knife.media/'"
   ]
  },
  {
   "cell_type": "markdown",
   "metadata": {},
   "source": [
    "###  окей, немного функций"
   ]
  },
  {
   "cell_type": "code",
   "execution_count": 3,
   "metadata": {},
   "outputs": [],
   "source": [
    "#создает реквест с агентом, дабы не получать 403 постоянно боже мой\n",
    "def gen_request(url):\n",
    "    headers = {'User-Agent' : 'Mozilla 5.10'}\n",
    "    request = Request(url, None, headers)\n",
    "    return request\n",
    "\n",
    "\n",
    "#собстна, получает страницу\n",
    "def get_response(request):\n",
    "    return urlopen(request)"
   ]
  },
  {
   "cell_type": "code",
   "execution_count": 4,
   "metadata": {},
   "outputs": [],
   "source": [
    "#достает хтмл-код\n",
    "def get_doc(response):\n",
    "    return response.read().decode('utf-8')\n",
    "\n",
    "\n",
    "#сохраняет хтмл-код в файлы, на всякий случай\n",
    "def save_doc(url, doc):\n",
    "    file_name = 'htmls/' + url[len(base_url)::].replace('/', ' ') + '.html'\n",
    "    with open(file_name, 'w') as out:\n",
    "        out.write(str(doc))"
   ]
  },
  {
   "cell_type": "code",
   "execution_count": 5,
   "metadata": {},
   "outputs": [],
   "source": [
    "#достает все ссылки (работает нормально только на главной странице ножа)\n",
    "def get_links(doc):\n",
    "    soup = BeautifulSoup(doc, \"lxml\")\n",
    "    links = soup.find_all('a', {'class':'widget__link'})\n",
    "    return [link.get('href') for link in links]"
   ]
  },
  {
   "cell_type": "code",
   "execution_count": 6,
   "metadata": {},
   "outputs": [],
   "source": [
    "import collections\n",
    "c = collections.Counter()"
   ]
  },
  {
   "cell_type": "code",
   "execution_count": 7,
   "metadata": {},
   "outputs": [],
   "source": [
    "#достает заголовок, интро и текст статьи и выдает красивый словарик\n",
    "def get_txt_content(doc):\n",
    "    soup = BeautifulSoup(doc, \"lxml\")\n",
    "    header = unicodedata.normalize(\"NFKD\", soup.find('h1').text)\n",
    "    intro_block = soup.find('div', {'class':\"post__header-excerpt\"})\n",
    "    intro = unicodedata.normalize(\"NFKD\", intro_block.text) if not intro_block == None else ''\n",
    "    content = unicodedata.normalize(\"NFKD\", soup.find('div', {'class':\"post__content custom\"}).text)\n",
    "    all_content = (intro + content).rstrip()\n",
    "    \n",
    "    for word in header.split():\n",
    "        c[word] += 1\n",
    "    for word in all_content.split():\n",
    "        c[word] += 1\n",
    "        \n",
    "    return {'name':header, 'data':all_content}\n",
    "\n",
    "\n",
    "#сохраняет тхт файл\n",
    "def save_txt(data):\n",
    "    file_name = 'txts/' + data['name'] + '.txt'\n",
    "    with open(file_name, 'w') as out:\n",
    "        out.write(data['data'])"
   ]
  },
  {
   "cell_type": "code",
   "execution_count": 8,
   "metadata": {},
   "outputs": [
    {
     "name": "stdout",
     "output_type": "stream",
     "text": [
      "Counter()\n"
     ]
    }
   ],
   "source": [
    "print(c)"
   ]
  },
  {
   "cell_type": "code",
   "execution_count": 9,
   "metadata": {},
   "outputs": [],
   "source": [
    "#просто делает все, что надо, со страницей, дабы не совать столько строчек в цикл\n",
    "def scrap_page(url):\n",
    "    print(url)\n",
    "    request = gen_request(url)\n",
    "    response = get_response(request)\n",
    "    doc = get_doc(response)\n",
    "    save_doc(url, doc)\n",
    "    txt_data = get_txt_content(doc)\n",
    "    save_txt(txt_data)"
   ]
  },
  {
   "cell_type": "markdown",
   "metadata": {},
   "source": [
    "### С функциями все, теперь само тело программы"
   ]
  },
  {
   "cell_type": "markdown",
   "metadata": {},
   "source": [
    "![alt text](cat2.gif)"
   ]
  },
  {
   "cell_type": "code",
   "execution_count": 10,
   "metadata": {},
   "outputs": [
    {
     "data": {
      "text/plain": [
       "['https://knife.media/occult-economies/',\n",
       " 'https://knife.media/madness-history/',\n",
       " 'https://knife.media/neo-noir-movies/',\n",
       " 'https://knife.media/epistolary-ussr/',\n",
       " 'https://knife.media/test-tradition/',\n",
       " 'https://knife.media/music-cafe/',\n",
       " 'https://knife.media/dolce-gabbana-football/',\n",
       " 'https://knife.media/scientific-tinder/',\n",
       " 'https://knife.media/programming-school/',\n",
       " 'https://knife.media/retro-shooter/',\n",
       " 'https://knife.media/names/',\n",
       " 'https://knife.media/creativity-myths/',\n",
       " 'https://knife.media/spatial-dimensions/',\n",
       " 'https://knife.media/narrative-identity/',\n",
       " 'https://knife.media/cloning/',\n",
       " 'https://knife.media/piss-off/',\n",
       " 'https://knife.media/wilson/',\n",
       " 'https://knife.media/kiss/',\n",
       " 'https://knife.media/smm-job/',\n",
       " 'https://knife.media/arctic-technology/',\n",
       " 'https://knife.media/barcelona-guide/',\n",
       " 'https://knife.media/retro-shooter/',\n",
       " 'https://knife.media/stars-map/',\n",
       " 'https://knife.media/virtual-russia/',\n",
       " 'https://knife.media/computer-worm/',\n",
       " 'https://knife.media/sound-map/',\n",
       " 'https://knife.media/metro-quiz/',\n",
       " 'https://knife.media/maniac-jobs/',\n",
       " 'https://knife.media/street-shapes/',\n",
       " 'https://knife.media/turin-guide/',\n",
       " 'https://knife.media/umberto-eco-quiz/',\n",
       " 'https://knife.media/paradox-of-holiness/',\n",
       " 'https://knife.media/usa-guide/',\n",
       " 'https://knife.media/pibloktoq/',\n",
       " 'https://knife.media/bodypositive/',\n",
       " 'https://knife.media/how-breakfast-became-a-thing/',\n",
       " 'https://knife.media/meat/',\n",
       " 'https://knife.media/tuva-guide/',\n",
       " 'https://knife.media/intellectuals-and-people/',\n",
       " 'https://knife.media/lgbt-movies/',\n",
       " 'https://knife.media/cyberbulling/',\n",
       " 'https://knife.media/history-of-drunkeness/',\n",
       " 'https://knife.media/teacher-in-vietnam/',\n",
       " 'https://knife.media/switch/',\n",
       " 'https://knife.media/anti-american-films/',\n",
       " 'https://knife.media/lisbon-guide/',\n",
       " 'https://knife.media/route-66/',\n",
       " 'https://knife.media/north-korean-films/',\n",
       " 'https://knife.media/psychedelic-medicine/']"
      ]
     },
     "execution_count": 10,
     "metadata": {},
     "output_type": "execute_result"
    }
   ],
   "source": [
    "#обрабатывает главную страницу\n",
    "request = gen_request(base_url)\n",
    "response = get_response(request)\n",
    "doc = get_doc(response)\n",
    "links = get_links(doc)\n",
    "links"
   ]
  },
  {
   "cell_type": "markdown",
   "metadata": {},
   "source": [
    "#### лирическое отступление про tqdm\n",
    "https://tqdm.github.io/  \n",
    "просто средство для красивого отображения циклов  \n",
    "вот"
   ]
  },
  {
   "cell_type": "code",
   "execution_count": 11,
   "metadata": {
    "scrolled": true
   },
   "outputs": [
    {
     "data": {
      "application/vnd.jupyter.widget-view+json": {
       "model_id": "d74c0114b97745c2a44f51a6bdf12ea2",
       "version_major": 2,
       "version_minor": 0
      },
      "text/html": [
       "<p>Failed to display Jupyter Widget of type <code>HBox</code>.</p>\n",
       "<p>\n",
       "  If you're reading this message in the Jupyter Notebook or JupyterLab Notebook, it may mean\n",
       "  that the widgets JavaScript is still loading. If this message persists, it\n",
       "  likely means that the widgets JavaScript library is either not installed or\n",
       "  not enabled. See the <a href=\"https://ipywidgets.readthedocs.io/en/stable/user_install.html\">Jupyter\n",
       "  Widgets Documentation</a> for setup instructions.\n",
       "</p>\n",
       "<p>\n",
       "  If you're reading this message in another frontend (for example, a static\n",
       "  rendering on GitHub or <a href=\"https://nbviewer.jupyter.org/\">NBViewer</a>),\n",
       "  it may mean that your frontend doesn't currently support widgets.\n",
       "</p>\n"
      ],
      "text/plain": [
       "HBox(children=(IntProgress(value=0, max=49), HTML(value='')))"
      ]
     },
     "metadata": {},
     "output_type": "display_data"
    },
    {
     "name": "stdout",
     "output_type": "stream",
     "text": [
      "https://knife.media/occult-economies/\n",
      "https://knife.media/madness-history/\n",
      "https://knife.media/neo-noir-movies/\n",
      "https://knife.media/epistolary-ussr/\n",
      "https://knife.media/test-tradition/\n",
      "https://knife.media/music-cafe/\n",
      "https://knife.media/dolce-gabbana-football/\n",
      "https://knife.media/scientific-tinder/\n",
      "https://knife.media/programming-school/\n",
      "https://knife.media/retro-shooter/\n",
      "https://knife.media/names/\n",
      "https://knife.media/creativity-myths/\n",
      "https://knife.media/spatial-dimensions/\n",
      "https://knife.media/narrative-identity/\n",
      "https://knife.media/cloning/\n",
      "https://knife.media/piss-off/\n",
      "https://knife.media/wilson/\n",
      "https://knife.media/kiss/\n",
      "https://knife.media/smm-job/\n",
      "https://knife.media/arctic-technology/\n",
      "https://knife.media/barcelona-guide/\n",
      "https://knife.media/retro-shooter/\n",
      "https://knife.media/stars-map/\n",
      "https://knife.media/virtual-russia/\n",
      "https://knife.media/computer-worm/\n",
      "https://knife.media/sound-map/\n",
      "https://knife.media/metro-quiz/\n",
      "https://knife.media/maniac-jobs/\n",
      "https://knife.media/street-shapes/\n",
      "https://knife.media/turin-guide/\n",
      "https://knife.media/umberto-eco-quiz/\n",
      "https://knife.media/paradox-of-holiness/\n",
      "https://knife.media/usa-guide/\n",
      "https://knife.media/pibloktoq/\n",
      "https://knife.media/bodypositive/\n",
      "https://knife.media/how-breakfast-became-a-thing/\n",
      "https://knife.media/meat/\n",
      "https://knife.media/tuva-guide/\n",
      "https://knife.media/intellectuals-and-people/\n",
      "https://knife.media/lgbt-movies/\n",
      "https://knife.media/cyberbulling/\n",
      "https://knife.media/history-of-drunkeness/\n",
      "https://knife.media/teacher-in-vietnam/\n",
      "https://knife.media/switch/\n",
      "https://knife.media/anti-american-films/\n",
      "https://knife.media/lisbon-guide/\n",
      "https://knife.media/route-66/\n",
      "https://knife.media/north-korean-films/\n",
      "https://knife.media/psychedelic-medicine/\n",
      "\n"
     ]
    }
   ],
   "source": [
    "#проходит по ссылкам и обрабатывает каждую статью\n",
    "for link in tqdm_notebook(links):\n",
    "    if base_url in link:\n",
    "        scrap_page(link)"
   ]
  },
  {
   "cell_type": "markdown",
   "metadata": {},
   "source": [
    "#### Самые популярные слова"
   ]
  },
  {
   "cell_type": "code",
   "execution_count": 12,
   "metadata": {
    "scrolled": false
   },
   "outputs": [
    {
     "data": {
      "text/plain": [
       "[('и', 2327),\n",
       " ('в', 2222),\n",
       " ('—', 1177),\n",
       " ('на', 1026),\n",
       " ('не', 920),\n",
       " ('с', 726),\n",
       " ('что', 708),\n",
       " ('как', 377),\n",
       " ('из', 362),\n",
       " ('по', 354),\n",
       " ('В', 325),\n",
       " ('а', 318),\n",
       " ('это', 305),\n",
       " ('к', 294),\n",
       " ('от', 290),\n",
       " ('для', 278),\n",
       " ('за', 268),\n",
       " ('но', 265),\n",
       " ('или', 250),\n",
       " ('его', 236),\n",
       " ('все', 229),\n",
       " ('можно', 229),\n",
       " ('у', 201),\n",
       " ('до', 179),\n",
       " ('есть', 179)]"
      ]
     },
     "execution_count": 12,
     "metadata": {},
     "output_type": "execute_result"
    }
   ],
   "source": [
    "c.most_common(25)"
   ]
  },
  {
   "cell_type": "markdown",
   "metadata": {},
   "source": [
    "#### Самые непопулярные слова"
   ]
  },
  {
   "cell_type": "code",
   "execution_count": 13,
   "metadata": {},
   "outputs": [
    {
     "data": {
      "text/plain": [
       "[('Шульгин.', 1),\n",
       " ('изучением', 1),\n",
       " ('развиваться', 1),\n",
       " ('следить,', 1),\n",
       " ('остается,', 1),\n",
       " ('отсутствует.', 1),\n",
       " ('способами', 1),\n",
       " ('опробоваться', 1),\n",
       " ('сумрака', 1),\n",
       " ('препаратам-психоделикам,', 1),\n",
       " ('регуляторы', 1),\n",
       " ('нет».', 1),\n",
       " ('законно,', 1),\n",
       " ('законными', 1),\n",
       " ('незаконно,', 1),\n",
       " ('«Наркотики', 1),\n",
       " ('мышления:', 1),\n",
       " ('черно-белого', 1),\n",
       " ('рассуждений.', 1),\n",
       " ('порочном', 1),\n",
       " ('основаны', 1),\n",
       " ('запретами', 1),\n",
       " ('Натт,', 1),\n",
       " ('2009', 1)]"
      ]
     },
     "execution_count": 13,
     "metadata": {},
     "output_type": "execute_result"
    }
   ],
   "source": [
    "c.most_common()[:-25:-1]"
   ]
  },
  {
   "cell_type": "markdown",
   "metadata": {},
   "source": [
    "#### Всего"
   ]
  },
  {
   "cell_type": "code",
   "execution_count": 14,
   "metadata": {},
   "outputs": [
    {
     "data": {
      "text/plain": [
       "70842"
      ]
     },
     "execution_count": 14,
     "metadata": {},
     "output_type": "execute_result"
    }
   ],
   "source": [
    "sum(c.values())"
   ]
  },
  {
   "cell_type": "markdown",
   "metadata": {},
   "source": [
    "#### Что получилось по итогу\n",
    "[html-ки](./htmls)  \n",
    "[txt-ки](./txts)"
   ]
  }
 ],
 "metadata": {
  "kernelspec": {
   "display_name": "Python 3",
   "language": "python",
   "name": "python3"
  },
  "language_info": {
   "codemirror_mode": {
    "name": "ipython",
    "version": 3
   },
   "file_extension": ".py",
   "mimetype": "text/x-python",
   "name": "python",
   "nbconvert_exporter": "python",
   "pygments_lexer": "ipython3",
   "version": "3.6.4"
  }
 },
 "nbformat": 4,
 "nbformat_minor": 2
}
